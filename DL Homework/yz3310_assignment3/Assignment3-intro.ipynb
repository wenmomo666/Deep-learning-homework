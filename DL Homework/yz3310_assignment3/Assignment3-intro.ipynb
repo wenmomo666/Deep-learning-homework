{
 "cells": [
  {
   "cell_type": "markdown",
   "metadata": {},
   "source": [
    "# Assignment 3\n",
    "\n",
    "In this assignment, you will experiment with recurrent neural network(RNN).\n",
    "\n",
    "### Task 1: XOR net (40%)\n",
    "\n",
    "Create a RNN network which can correctly compute the XOR operation.\n",
    "\n",
    "### Task 2: RNN Application - Char-RNN (60%)\n",
    "\n",
    "In this task, we will implement a very simple application of RNN. Char-RNN is a multi-layer Recurrent Neural Network (RNN, LSTM, and GRU) for training/sampling from character-level language models. In this task, you will learn how to build rnn network and some tricks to help better train it.\n",
    "\n",
    "After completing this task, the students will have to submit the results, together with the other task in the assignment 3 on the due date of the assignment 3."
   ]
  },
  {
   "cell_type": "markdown",
   "metadata": {
    "collapsed": true
   },
   "source": [
    "### Submission requirements\n",
    "\n",
    "1. Save code and results in .py and .ipynb.\n",
    "2. Please keep the /data folder and /checkpoints folder in your submission for us to check your result.\n",
    "3. No need to upload the model file for this assignment."
   ]
  },
  {
   "cell_type": "code",
   "execution_count": null,
   "metadata": {
    "collapsed": true
   },
   "outputs": [],
   "source": []
  }
 ],
 "metadata": {
  "anaconda-cloud": {},
  "kernelspec": {
   "display_name": "Python 3",
   "language": "python",
   "name": "python3"
  },
  "language_info": {
   "codemirror_mode": {
    "name": "ipython",
    "version": 3
   },
   "file_extension": ".py",
   "mimetype": "text/x-python",
   "name": "python",
   "nbconvert_exporter": "python",
   "pygments_lexer": "ipython3",
   "version": "3.6.4"
  }
 },
 "nbformat": 4,
 "nbformat_minor": 2
}
