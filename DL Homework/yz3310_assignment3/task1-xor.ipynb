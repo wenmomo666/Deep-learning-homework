{
 "cells": [
  {
   "cell_type": "markdown",
   "metadata": {},
   "source": [
    "# Task 1: XOR"
   ]
  },
  {
   "cell_type": "code",
   "execution_count": 1,
   "metadata": {},
   "outputs": [
    {
     "name": "stderr",
     "output_type": "stream",
     "text": [
      "/anaconda3/lib/python3.6/importlib/_bootstrap.py:219: RuntimeWarning: compiletime version 3.5 of module 'tensorflow.python.framework.fast_tensor_util' does not match runtime version 3.6\n",
      "  return f(*args, **kwds)\n",
      "/anaconda3/lib/python3.6/site-packages/h5py/__init__.py:36: FutureWarning: Conversion of the second argument of issubdtype from `float` to `np.floating` is deprecated. In future, it will be treated as `np.float64 == np.dtype(float).type`.\n",
      "  from ._conv import register_converters as _register_converters\n"
     ]
    }
   ],
   "source": [
    "# Import modules\n",
    "from __future__ import print_function\n",
    "import tensorflow as tf\n",
    "import numpy as np\n",
    "from numpy.random import shuffle\n",
    "import time\n",
    "import matplotlib.pyplot as plt\n",
    "\n",
    "# Plot configurations\n",
    "% matplotlib inline\n",
    "\n",
    "# Notebook auto reloads code. (Ref: http://stackoverflow.com/questions/1907993/autoreload-of-modules-in-ipython)\n",
    "% load_ext autoreload\n",
    "% autoreload 2"
   ]
  },
  {
   "cell_type": "markdown",
   "metadata": {},
   "source": [
    "## Task 1, Part 1: Backpropagation through time (BPTT)"
   ]
  },
  {
   "cell_type": "markdown",
   "metadata": {},
   "source": [
    "**Question:** Consider a simple RNN network shown in the following figure, where _wx, wh, b1, w, b2_ are the scalar parameters of the network. The loss function is the **mean squared error (MSE)**. Given input _(x1, x2) = (1, 0)_, ground truth _(g1, g2) = (1, 1), h0 = 0, (wx, wh, b1, w, b2) = (1, 1, 1, 1, 1)_, compute _(dwx, dwh, db1, dw, db2)_, which are the gradients of loss with repect to 5 parameters _(wx, wh, b1, w, b2)_.\n",
    "\n",
    "![bptt](./img/bptt2.jpg)"
   ]
  },
  {
   "cell_type": "markdown",
   "metadata": {},
   "source": [
    "<span style=\"color:red\">TODO:</span>\n",
    "\n",
    "Answer the above question. \n",
    "\n",
    "\n",
    "    \n",
    "\n",
    "For $L_{i}$:\n",
    "$L_{1} = \\frac{1}{2}(g_{1} - y_{1})^{2}, L_{2} = \\frac{1}{2}(g_{2} - y_{2})^{2}$\n",
    "    \n",
    "$\\dfrac{\\partial L}{\\partial w} = \\dfrac{\\partial L_{1}}{\\partial w} + \\dfrac{\\partial L_{2}}{\\partial w} = \\dfrac{\\partial L_{1}}{\\partial y_{1}}\\dfrac{\\partial y_{1}}{\\partial w} + \\dfrac{\\partial L_{2}}{\\partial y_{2}}\\dfrac{\\partial y_{2}}{\\partial w} = (y_{1} - g_{1})y_{1}(1 - y_{1})h_{1} + (y_{2} - g_{2})y_{2}(1 - y_{2})h_{2}$\n",
    "\n",
    "$\\dfrac{\\partial L}{\\partial b_{2}} = \\dfrac{\\partial L_{1}}{\\partial b_{2}} + \\dfrac{\\partial L_{2}}{\\partial b_{2}} = \\dfrac{\\partial L_{1}}{\\partial y_{1}}\\dfrac{\\partial y_{1}}{\\partial b_{2}} + \\dfrac{\\partial L_{2}}{\\partial y_{2}}\\dfrac{\\partial y_{2}}{\\partial b_{2}} = (y_{1} - g_{1})y_{1}(1 - y_{1}) + (y_{2} - g_{2})y_{2}(1 - y_{2})$\n",
    "\n",
    "$\\dfrac{\\partial L}{\\partial w_{x}} =  \\dfrac{\\partial L_{1}}{\\partial w_{x}} + \\dfrac{\\partial L_{2}}{\\partial w_{x}} = \\dfrac{\\partial L_{1}}{\\partial y_{1}}\\dfrac{\\partial y_{1}}{\\partial h_{1}}\\dfrac{\\partial h_{1}}{\\partial w_{x}} + \\dfrac{\\partial L_{2}}{\\partial y_{2}}\\dfrac{\\partial y_{2}}{\\partial h_{2}}\\dfrac{\\partial h_{2}}{\\partial w_{x}} + \\dfrac{\\partial L_{2}}{\\partial y_{2}}\\dfrac{\\partial y_{2}}{\\partial h_{2}}\\dfrac{\\partial h_{2}}{\\partial h_{1}}\\dfrac{\\partial h_{1}}{\\partial w_{x}} $\n",
    "$= (y_{1} - g_{1})y_{1}(1 - y_{1})w.h_{1}(1 - h_{1})x_{1} + (y_{2} - g_{2})y_{2}(1 - y_{2})w.h_{2}(1 - h_{2})x_{2} + (y_{2} - g_{2})y_{2}(1 - y_{2})w.h_{2}(1 - h_{2})w_{h}.h_{1}(1 - h_{1})x_{1}$\n",
    "\n",
    "$\\dfrac{\\partial L}{\\partial w_{h}} =  \\dfrac{\\partial L_{1}}{\\partial w_{h}} + \\dfrac{\\partial L_{2}}{\\partial w_{h}} = \\dfrac{\\partial L_{1}}{\\partial y_{1}}\\dfrac{\\partial y_{1}}{\\partial h_{1}}\\dfrac{\\partial h_{1}}{\\partial w_{h}} + \\dfrac{\\partial L_{2}}{\\partial y_{2}}\\dfrac{\\partial y_{2}}{\\partial h_{2}}\\dfrac{\\partial h_{2}}{\\partial w_{h}} + \\dfrac{\\partial L_{2}}{\\partial y_{2}}\\dfrac{\\partial y_{2}}{\\partial h_{2}}\\dfrac{\\partial h_{2}}{\\partial h_{1}}\\dfrac{\\partial h_{1}}{\\partial w_{h}}$\n",
    "$= (y_{1} - g_{1})y_{1}(1 - y_{1})w.h_{1}(1 - h_{1})h_{0} + (y_{2} - g_{2})y_{2}(1 - y_{2})w.h_{2}(1 - h_{2})h_{1} + (y_{2} - g_{2})y_{2}(1 - y_{2})w.h_{2}(1 - h_{2})w_{h}.h_{1}(1 - h_{1})h_{0}$\n",
    "\n",
    "$\\dfrac{\\partial L}{\\partial b_{1}} =  \\dfrac{\\partial L_{1}}{\\partial b_{1}} + \\dfrac{\\partial L_{2}}{\\partial b_{1}} = \\dfrac{\\partial L_{1}}{\\partial y_{1}}\\dfrac{\\partial y_{1}}{\\partial h_{1}}\\dfrac{\\partial h_{1}}{\\partial b_{1}} + \\dfrac{\\partial L_{2}}{\\partial y_{2}}\\dfrac{\\partial y_{2}}{\\partial h_{2}}\\dfrac{\\partial h_{2}}{\\partial b_{1}} + \\dfrac{\\partial L_{2}}{\\partial y_{2}}\\dfrac{\\partial y_{2}}{\\partial h_{2}}\\dfrac{\\partial h_{2}}{\\partial h_{1}}\\dfrac{\\partial h_{1}}{\\partial b_{1}}$\n",
    "$= (y_{1} - g_{1})y_{1}(1 - y_{1})w.h_{1}(1 - h_{1}) + (y_{2} - g_{2})y_{2}(1 - y_{2})w.h_{2}(1 - h_{2}) + (y_{2} - g_{2})y_{2}(1 - y_{2})w.h_{2}(1 - h_{2})w_{h}.h_{1}(1 - h_{1})$\n",
    "\n",
    "Substitute $x_{1}, x_{2},  w_{x} ,  w_{h},  b_{1},  w,  b_{2},$ into above expressions.\n",
    "we could get:\n",
    "\n",
    "$h_{1} = \\dfrac{1}{1 + e^{-2}} = 0.881, y_{1} = \\dfrac{1}{1 + e^{-(1 + h_{1})}} = 0.868, h_{2} = \\dfrac{1}{1 + e^{-(1 + h_{1})}} = 0.868, y_{2} = \\dfrac{1}{1 + e^{-(1 + h_{2})}} = 0.866$\n",
    "\n",
    "Then,\n",
    "\n",
    "$\\dfrac{\\partial L}{\\partial w} = -0.0268$\n",
    "\n",
    "$\\dfrac{\\partial L}{\\partial b_{2}} = -0.0307$\n",
    "\n",
    "$\\dfrac{\\partial L}{\\partial w_{x}} = −0.00176$\n",
    "\n",
    "$\\dfrac{\\partial L}{\\partial w_{h}} = -0.00157$\n",
    "\n",
    "$\\dfrac{\\partial L}{\\partial b_{1}} = -0.00355$"
   ]
  },
  {
   "cell_type": "markdown",
   "metadata": {},
   "source": [
    "## Task 1, Part 2: Use tensorflow modules to create XOR network\n",
    "\n",
    "In this part, you need to build and train an XOR network that can learn the XOR function. It is a very simple implementation of RNN and will give you an idea how RNN is built and how to train it."
   ]
  },
  {
   "cell_type": "markdown",
   "metadata": {},
   "source": [
    "### XOR network\n",
    "\n",
    "XOR network can learn the XOR $\\oplus$ function\n",
    "\n",
    "As shown in the figure below, and for instance, if input $(x0, x1, x2)$=(1,0,0), then output $(y1, y2, y3)$=(1,1,1). That is, $y_n = x_0\\oplus x_1 \\oplus ... \\oplus x_{n-1}$\n",
    "\n",
    "![xor_net](./img/xor.png)"
   ]
  },
  {
   "cell_type": "markdown",
   "metadata": {},
   "source": [
    "### Create data set\n",
    "This function provides you the way to generate the data which is required for the training process. You should utilize it when building your training function for the GRU. Please read the source code for more information."
   ]
  },
  {
   "cell_type": "code",
   "execution_count": 2,
   "metadata": {},
   "outputs": [],
   "source": [
    "from ecbm4040.xor.utils import create_dataset"
   ]
  },
  {
   "cell_type": "markdown",
   "metadata": {},
   "source": [
    "### Build a network using a Tensorlow GRUCell\n",
    "This section shows an example how to build a RNN network using an GRU cell. GRU cell is an inbuilt class in tensorflow which implements the real behavior of the GRU neuron. \n",
    "\n",
    "Reference: \n",
    "1. [TensorFlow GRU cell](https://www.tensorflow.org/versions/r1.8/api_docs/python/tf/contrib/rnn/GRUCell)\n",
    "2. [Understanding GRU networks](https://towardsdatascience.com/understanding-gru-networks-2ef37df6c9be)"
   ]
  },
  {
   "cell_type": "code",
   "execution_count": 3,
   "metadata": {},
   "outputs": [],
   "source": [
    "from tensorflow.contrib.rnn import GRUCell"
   ]
  },
  {
   "cell_type": "code",
   "execution_count": 14,
   "metadata": {},
   "outputs": [],
   "source": [
    "tf.reset_default_graph()\n",
    "\n",
    "# Input shape: (num_samples, seq_length, input_dimension)\n",
    "# Output shape: (num_samples, output_ground_truth), and output_ground_truth is 0/1.\n",
    "input_data = tf.placeholder(tf.float32, shape=[None,None,1])\n",
    "output_data = tf.placeholder(tf.int64, shape=[None,None])\n",
    "\n",
    "# define GRU cell\n",
    "num_units = 64\n",
    "cell = GRUCell(num_units)\n",
    "\n",
    "# create GRU network: you can also choose other modules provided by tensorflow, like static_rnn etc.\n",
    "hidden, _ = tf.nn.dynamic_rnn(cell, input_data, dtype=tf.float32)\n",
    "\n",
    "# generate output from the hidden information\n",
    "output_shape = 2\n",
    "out = tf.layers.dense(hidden, output_shape)\n",
    "pred = tf.argmax(out, axis=2)\n",
    "\n",
    "# loss function\n",
    "loss = tf.reduce_mean(tf.nn.sparse_softmax_cross_entropy_with_logits(labels=output_data,logits=out))\n",
    "\n",
    "# optimization\n",
    "optimizer = tf.train.AdamOptimizer(learning_rate=0.1).minimize(loss)\n",
    "\n",
    "# accuracy\n",
    "correct_num = tf.equal(output_data,pred)\n",
    "accuracy = tf.reduce_mean(tf.cast(correct_num,tf.float32))"
   ]
  },
  {
   "cell_type": "markdown",
   "metadata": {},
   "source": [
    "### Training \n",
    "\n",
    "<span style='color:red'>TODO:</span> \n",
    "1. Build your training funciton for RNN; \n",
    "2. Plot the cost during the traning"
   ]
  },
  {
   "cell_type": "code",
   "execution_count": 17,
   "metadata": {},
   "outputs": [
    {
     "name": "stdout",
     "output_type": "stream",
     "text": [
      "Epoch: 0, Cost: 0.6922591924667358, Accuracy: 62.17041015625%\n",
      "Epoch: 1, Cost: 1.5587393045425415, Accuracy: 50.08544921875%\n",
      "Epoch: 2, Cost: 0.7504459619522095, Accuracy: 56.4422607421875%\n",
      "Epoch: 3, Cost: 0.9414393901824951, Accuracy: 50.3173828125%\n",
      "Epoch: 4, Cost: 0.7325530052185059, Accuracy: 50.30517578125%\n",
      "Epoch: 5, Cost: 0.7911301851272583, Accuracy: 49.7314453125%\n",
      "Epoch: 6, Cost: 0.7321413159370422, Accuracy: 47.979736328125%\n",
      "Epoch: 7, Cost: 0.7271897196769714, Accuracy: 49.8443603515625%\n",
      "Epoch: 8, Cost: 0.7233096361160278, Accuracy: 50.677490234375%\n",
      "Epoch: 9, Cost: 0.7080509066581726, Accuracy: 50.775146484375%\n",
      "Epoch: 10, Cost: 0.6947970390319824, Accuracy: 50.6591796875%\n",
      "Epoch: 11, Cost: 0.6902457475662231, Accuracy: 48.2757568359375%\n",
      "Epoch: 12, Cost: 0.6877731680870056, Accuracy: 43.3074951171875%\n",
      "Epoch: 13, Cost: 0.6872464418411255, Accuracy: 43.798828125%\n",
      "Epoch: 14, Cost: 0.6830018758773804, Accuracy: 47.1527099609375%\n",
      "Epoch: 15, Cost: 0.6790271401405334, Accuracy: 48.651123046875%\n",
      "Epoch: 16, Cost: 0.6746456623077393, Accuracy: 52.1392822265625%\n",
      "Epoch: 17, Cost: 0.6715460419654846, Accuracy: 50.1922607421875%\n",
      "Epoch: 18, Cost: 0.6654760241508484, Accuracy: 54.437255859375%\n",
      "Epoch: 19, Cost: 0.6597921848297119, Accuracy: 53.1402587890625%\n",
      "Epoch: 20, Cost: 0.6532926559448242, Accuracy: 51.2451171875%\n",
      "Epoch: 21, Cost: 0.6425513029098511, Accuracy: 58.36181640625%\n",
      "Epoch: 22, Cost: 0.6325777769088745, Accuracy: 65.057373046875%\n",
      "Epoch: 23, Cost: 0.613219678401947, Accuracy: 69.775390625%\n",
      "Epoch: 24, Cost: 0.5830951929092407, Accuracy: 76.318359375%\n",
      "Epoch: 25, Cost: 0.5513854622840881, Accuracy: 76.9195556640625%\n",
      "Epoch: 26, Cost: 0.49605122208595276, Accuracy: 83.453369140625%\n",
      "Epoch: 27, Cost: 0.4116506576538086, Accuracy: 92.608642578125%\n",
      "Epoch: 28, Cost: 0.33987390995025635, Accuracy: 93.8629150390625%\n",
      "Epoch: 29, Cost: 0.26171422004699707, Accuracy: 97.711181640625%\n",
      "Epoch: 30, Cost: 0.2046799659729004, Accuracy: 97.900390625%\n",
      "Epoch: 31, Cost: 0.15441076457500458, Accuracy: 98.553466796875%\n",
      "Epoch: 32, Cost: 0.11463378369808197, Accuracy: 98.8128662109375%\n",
      "Epoch: 33, Cost: 0.07838020473718643, Accuracy: 99.8382568359375%\n",
      "Epoch: 34, Cost: 0.05064229667186737, Accuracy: 99.8779296875%\n",
      "Epoch: 35, Cost: 0.038335032761096954, Accuracy: 99.517822265625%\n",
      "Epoch: 36, Cost: 0.02376159094274044, Accuracy: 99.8809814453125%\n",
      "Epoch: 37, Cost: 0.01790933683514595, Accuracy: 99.9542236328125%\n",
      "Epoch: 38, Cost: 0.011500326916575432, Accuracy: 99.951171875%\n",
      "Epoch: 39, Cost: 0.008262555114924908, Accuracy: 99.9481201171875%\n",
      "Epoch: 40, Cost: 0.00553039601072669, Accuracy: 99.9664306640625%\n",
      "Epoch: 41, Cost: 0.004017841070890427, Accuracy: 100.0%\n",
      "Epoch: 42, Cost: 0.003041087416931987, Accuracy: 100.0%\n",
      "Epoch: 43, Cost: 0.0022635748609900475, Accuracy: 100.0%\n",
      "Epoch: 44, Cost: 0.001781606930308044, Accuracy: 100.0%\n",
      "Epoch: 45, Cost: 0.0014678484294563532, Accuracy: 100.0%\n",
      "Epoch: 46, Cost: 0.0012121482286602259, Accuracy: 100.0%\n",
      "Epoch: 47, Cost: 0.0009561285842210054, Accuracy: 100.0%\n",
      "Epoch: 48, Cost: 0.0007933287415653467, Accuracy: 100.0%\n",
      "Epoch: 49, Cost: 0.0006912141107022762, Accuracy: 100.0%\n"
     ]
    },
    {
     "data": {
      "image/png": "[encoded data removed]",
      "text/plain": [
       "<matplotlib.figure.Figure at 0x1c2cb18e80>"
      ]
     },
     "metadata": {},
     "output_type": "display_data"
    }
   ],
   "source": [
    "# YOUR TRAINING AND PLOTTING CODE HERE\n",
    "init_op = tf.initialize_all_variables()\n",
    "sess = tf.Session()\n",
    "sess.run(init_op)\n",
    "costs = []\n",
    "\n",
    "for epoch in range(50):\n",
    "    inp_data,out_data = create_dataset(4096)\n",
    "    _,c,acc = sess.run([optimizer,loss,accuracy],feed_dict={input_data: inp_data, output_data: out_data})\n",
    "    print(\"Epoch: {}, Cost: {}, Accuracy: {}%\".format(epoch,c,acc*100))\n",
    "    costs.append(c)\n",
    "    \n",
    "\n",
    "plt.plot(costs,label=\"Cost Function\")\n",
    "plt.xlabel(\"Epoch\")\n",
    "plt.ylabel(\"Cost\")\n",
    "plt.legend()\n",
    "plt.grid(\"off\")\n",
    "plt.show()\n",
    " \n",
    "sess.close()"
   ]
  },
  {
   "cell_type": "markdown",
   "metadata": {
    "collapsed": true
   },
   "source": [
    "## Task 1, Part 3 :  Build your own GRUCell\n",
    "In this part, you need to build your own GRU cell to achieve the GRU functionality. \n",
    "\n",
    "<span style=\"color:red\">TODO:</span> \n",
    "1. Finish class **MyGRUCell** in ecbm4040/xor/rnn.py;\n",
    "2. Write the training function for your RNN;\n",
    "3. Plot the cost during training."
   ]
  },
  {
   "cell_type": "code",
   "execution_count": 33,
   "metadata": {},
   "outputs": [],
   "source": [
    "from ecbm4040.xor.rnn import MyGRUCell"
   ]
  },
  {
   "cell_type": "code",
   "execution_count": 34,
   "metadata": {},
   "outputs": [
    {
     "name": "stdout",
     "output_type": "stream",
     "text": [
      "/anaconda3/lib/python3.6/site-packages/tensorflow/__init__.py\n"
     ]
    }
   ],
   "source": [
    "print(tf.__file__)"
   ]
  },
  {
   "cell_type": "code",
   "execution_count": 35,
   "metadata": {
    "scrolled": true
   },
   "outputs": [],
   "source": [
    "# recreate xor netowrk with your own GRU cell\n",
    "tf.reset_default_graph()\n",
    "\n",
    "#Input shape: (num_samples,seq_length,input_dimension)\n",
    "#Output shape: (num_samples, output_ground_truth), and output_ground_truth is 0/1. \n",
    "input_data = tf.placeholder(tf.float32,shape=[None,None,1])\n",
    "output_data = tf.placeholder(tf.int64,shape=[None,None])\n",
    "\n",
    "# recreate xor netowrk with your own GRU cell\n",
    "num_units = 64\n",
    "cell = MyGRUCell(num_units)\n",
    "\n",
    "# create GRU network: you can also choose other modules provided by tensorflow, like static_rnn etc.\n",
    "hidden, _ = tf.nn.dynamic_rnn(cell,input_data,dtype=tf.float32)\n",
    "\n",
    "# generate output from the hidden information\n",
    "output_shape = 2\n",
    "out = tf.layers.dense(hidden, output_shape)\n",
    "pred = tf.argmax(out,axis=2)\n",
    "\n",
    "# loss function\n",
    "loss = tf.reduce_mean(tf.nn.sparse_softmax_cross_entropy_with_logits(labels=output_data,logits=out))\n",
    "# optimization\n",
    "optimizer = tf.train.AdamOptimizer(learning_rate=0.1).minimize(loss)\n",
    "# accuracy\n",
    "correct = tf.equal(output_data,pred)\n",
    "accuracy = tf.reduce_mean(tf.cast(correct,tf.float32))"
   ]
  },
  {
   "cell_type": "markdown",
   "metadata": {},
   "source": [
    "### Training"
   ]
  },
  {
   "cell_type": "code",
   "execution_count": 32,
   "metadata": {
    "scrolled": false
   },
   "outputs": [
    {
     "name": "stdout",
     "output_type": "stream",
     "text": [
      "Epoch: 0, Cost: 0.7716414928436279, Accuracy: 55.419921875%\n",
      "Epoch: 1, Cost: 2.439490795135498, Accuracy: 50.5218505859375%\n",
      "Epoch: 2, Cost: 0.7885009050369263, Accuracy: 48.5382080078125%\n",
      "Epoch: 3, Cost: 1.1455963850021362, Accuracy: 55.8258056640625%\n",
      "Epoch: 4, Cost: 0.7298500537872314, Accuracy: 55.7525634765625%\n",
      "Epoch: 5, Cost: 0.8339319229125977, Accuracy: 55.7464599609375%\n",
      "Epoch: 6, Cost: 0.8019809722900391, Accuracy: 54.3487548828125%\n",
      "Epoch: 7, Cost: 0.8218687772750854, Accuracy: 56.829833984375%\n",
      "Epoch: 8, Cost: 0.7738798260688782, Accuracy: 56.6192626953125%\n",
      "Epoch: 9, Cost: 0.7364619374275208, Accuracy: 56.3995361328125%\n",
      "Epoch: 10, Cost: 0.7124108076095581, Accuracy: 57.3394775390625%\n",
      "Epoch: 11, Cost: 0.7236668467521667, Accuracy: 56.2469482421875%\n",
      "Epoch: 12, Cost: 0.7310802936553955, Accuracy: 54.7210693359375%\n",
      "Epoch: 13, Cost: 0.7084161639213562, Accuracy: 55.9844970703125%\n",
      "Epoch: 14, Cost: 0.6786512136459351, Accuracy: 55.8380126953125%\n",
      "Epoch: 15, Cost: 0.6712789535522461, Accuracy: 61.6973876953125%\n",
      "Epoch: 16, Cost: 0.666664719581604, Accuracy: 61.2335205078125%\n",
      "Epoch: 17, Cost: 0.657156765460968, Accuracy: 61.53564453125%\n",
      "Epoch: 18, Cost: 0.6476801633834839, Accuracy: 59.698486328125%\n",
      "Epoch: 19, Cost: 0.6398517489433289, Accuracy: 62.982177734375%\n",
      "Epoch: 20, Cost: 0.641573429107666, Accuracy: 62.6708984375%\n",
      "Epoch: 21, Cost: 0.63301020860672, Accuracy: 61.9049072265625%\n",
      "Epoch: 22, Cost: 0.6371622085571289, Accuracy: 60.14404296875%\n",
      "Epoch: 23, Cost: 0.6274920701980591, Accuracy: 60.076904296875%\n",
      "Epoch: 24, Cost: 0.6252806186676025, Accuracy: 59.3475341796875%\n",
      "Epoch: 25, Cost: 0.6160134673118591, Accuracy: 59.9365234375%\n",
      "Epoch: 26, Cost: 0.613324761390686, Accuracy: 59.808349609375%\n",
      "Epoch: 27, Cost: 0.6040899157524109, Accuracy: 60.9222412109375%\n",
      "Epoch: 28, Cost: 0.6004197001457214, Accuracy: 62.8082275390625%\n",
      "Epoch: 29, Cost: 0.5926944017410278, Accuracy: 63.958740234375%\n",
      "Epoch: 30, Cost: 0.5897382497787476, Accuracy: 63.7939453125%\n",
      "Epoch: 31, Cost: 0.5863823294639587, Accuracy: 65.2618408203125%\n",
      "Epoch: 32, Cost: 0.5826094150543213, Accuracy: 62.359619140625%\n",
      "Epoch: 33, Cost: 0.5739887952804565, Accuracy: 64.739990234375%\n",
      "Epoch: 34, Cost: 0.568031907081604, Accuracy: 64.1876220703125%\n",
      "Epoch: 35, Cost: 0.5619028806686401, Accuracy: 66.9677734375%\n",
      "Epoch: 36, Cost: 0.5516175031661987, Accuracy: 66.802978515625%\n",
      "Epoch: 37, Cost: 0.543982982635498, Accuracy: 70.2301025390625%\n",
      "Epoch: 38, Cost: 0.5371714234352112, Accuracy: 66.9952392578125%\n",
      "Epoch: 39, Cost: 0.5339212417602539, Accuracy: 67.156982421875%\n",
      "Epoch: 40, Cost: 0.5253708958625793, Accuracy: 67.5048828125%\n",
      "Epoch: 41, Cost: 0.519600510597229, Accuracy: 69.677734375%\n",
      "Epoch: 42, Cost: 0.5128477811813354, Accuracy: 69.03076171875%\n",
      "Epoch: 43, Cost: 0.5058104395866394, Accuracy: 69.2047119140625%\n",
      "Epoch: 44, Cost: 0.4988913834095001, Accuracy: 67.974853515625%\n",
      "Epoch: 45, Cost: 0.49640095233917236, Accuracy: 70.73974609375%\n",
      "Epoch: 46, Cost: 0.49141091108322144, Accuracy: 71.8353271484375%\n",
      "Epoch: 47, Cost: 0.4833758473396301, Accuracy: 72.039794921875%\n",
      "Epoch: 48, Cost: 0.47664520144462585, Accuracy: 72.0306396484375%\n",
      "Epoch: 49, Cost: 0.46932870149612427, Accuracy: 72.0458984375%\n",
      "Epoch: 50, Cost: 0.46502938866615295, Accuracy: 72.900390625%\n",
      "Epoch: 51, Cost: 0.45897990465164185, Accuracy: 73.2757568359375%\n",
      "Epoch: 52, Cost: 0.4481845200061798, Accuracy: 73.91357421875%\n",
      "Epoch: 53, Cost: 0.44452017545700073, Accuracy: 73.9471435546875%\n",
      "Epoch: 54, Cost: 0.4400222897529602, Accuracy: 76.190185546875%\n",
      "Epoch: 55, Cost: 0.4345052242279053, Accuracy: 75.390625%\n",
      "Epoch: 56, Cost: 0.43884503841400146, Accuracy: 76.080322265625%\n",
      "Epoch: 57, Cost: 0.42776650190353394, Accuracy: 75.238037109375%\n",
      "Epoch: 58, Cost: 0.4489589035511017, Accuracy: 72.1038818359375%\n",
      "Epoch: 59, Cost: 0.429919570684433, Accuracy: 73.4466552734375%\n",
      "Epoch: 60, Cost: 0.42418885231018066, Accuracy: 76.641845703125%\n",
      "Epoch: 61, Cost: 0.4566322863101959, Accuracy: 67.608642578125%\n",
      "Epoch: 62, Cost: 0.43867969512939453, Accuracy: 74.84130859375%\n",
      "Epoch: 63, Cost: 0.43473678827285767, Accuracy: 72.93701171875%\n",
      "Epoch: 64, Cost: 0.43516790866851807, Accuracy: 72.1405029296875%\n",
      "Epoch: 65, Cost: 0.4221274256706238, Accuracy: 73.5321044921875%\n",
      "Epoch: 66, Cost: 0.41128769516944885, Accuracy: 76.2359619140625%\n",
      "Epoch: 67, Cost: 0.40132761001586914, Accuracy: 76.1199951171875%\n",
      "Epoch: 68, Cost: 0.3927643895149231, Accuracy: 77.6123046875%\n",
      "Epoch: 69, Cost: 0.39395248889923096, Accuracy: 76.678466796875%\n",
      "Epoch: 70, Cost: 0.3895442485809326, Accuracy: 77.9754638671875%\n",
      "Epoch: 71, Cost: 0.3850153088569641, Accuracy: 77.89306640625%\n",
      "Epoch: 72, Cost: 0.38263261318206787, Accuracy: 77.1331787109375%\n",
      "Epoch: 73, Cost: 0.365322083234787, Accuracy: 79.364013671875%\n",
      "Epoch: 74, Cost: 0.368163526058197, Accuracy: 78.4576416015625%\n",
      "Epoch: 75, Cost: 0.3705108165740967, Accuracy: 79.7576904296875%\n",
      "Epoch: 76, Cost: 0.34268537163734436, Accuracy: 83.5479736328125%\n",
      "Epoch: 77, Cost: 0.35540127754211426, Accuracy: 82.7362060546875%\n",
      "Epoch: 78, Cost: 0.3449193239212036, Accuracy: 82.4859619140625%\n",
      "Epoch: 79, Cost: 0.34540504217147827, Accuracy: 79.1015625%\n",
      "Epoch: 80, Cost: 0.3343977928161621, Accuracy: 82.098388671875%\n",
      "Epoch: 81, Cost: 0.32198482751846313, Accuracy: 81.62841796875%\n",
      "Epoch: 82, Cost: 0.3143049478530884, Accuracy: 81.82373046875%\n",
      "Epoch: 83, Cost: 0.3091387152671814, Accuracy: 81.951904296875%\n",
      "Epoch: 84, Cost: 0.30346381664276123, Accuracy: 82.6904296875%\n",
      "Epoch: 85, Cost: 0.292447030544281, Accuracy: 84.6343994140625%\n",
      "Epoch: 86, Cost: 0.28494977951049805, Accuracy: 87.0758056640625%\n",
      "Epoch: 87, Cost: 0.2823147177696228, Accuracy: 88.4796142578125%\n",
      "Epoch: 88, Cost: 0.27547764778137207, Accuracy: 88.9556884765625%\n",
      "Epoch: 89, Cost: 0.2665971517562866, Accuracy: 88.0523681640625%\n",
      "Epoch: 90, Cost: 0.2671169936656952, Accuracy: 86.53564453125%\n",
      "Epoch: 91, Cost: 0.2652517557144165, Accuracy: 87.1978759765625%\n",
      "Epoch: 92, Cost: 0.2587204873561859, Accuracy: 88.4063720703125%\n",
      "Epoch: 93, Cost: 0.2565747797489166, Accuracy: 87.420654296875%\n",
      "Epoch: 94, Cost: 0.2597509026527405, Accuracy: 88.7542724609375%\n",
      "Epoch: 95, Cost: 0.25016504526138306, Accuracy: 89.251708984375%\n",
      "Epoch: 96, Cost: 0.24162575602531433, Accuracy: 90.0634765625%\n",
      "Epoch: 97, Cost: 0.2324708253145218, Accuracy: 90.0115966796875%\n",
      "Epoch: 98, Cost: 0.22753939032554626, Accuracy: 90.313720703125%\n",
      "Epoch: 99, Cost: 0.21970073878765106, Accuracy: 91.424560546875%\n"
     ]
    },
    {
     "data": {
      "image/png": "[encoded data removed]",
      "text/plain": [
       "<matplotlib.figure.Figure at 0x1c2d9e1e48>"
      ]
     },
     "metadata": {},
     "output_type": "display_data"
    }
   ],
   "source": [
    "# YOUR TRAINING AND PLOTTING CODE HERE\n",
    "init_op = tf.initialize_all_variables()\n",
    "sess = tf.Session()\n",
    "sess.run(init_op)\n",
    "costs = []\n",
    "\n",
    "for epoch in range(100):\n",
    "    inp_data,out_data = create_dataset(4096)\n",
    "    _,c,acc = sess.run([optimizer,loss,accuracy],feed_dict={input_data: inp_data, output_data: out_data})\n",
    "    print(\"Epoch: {}, Cost: {}, Accuracy: {}%\".format(epoch,c,acc*100))\n",
    "    costs.append(c)\n",
    "\n",
    "plt.plot(costs,label=\"Cost Function\")\n",
    "plt.xlabel(\"Epoch\")\n",
    "plt.ylabel(\"Cost\")\n",
    "plt.legend()\n",
    "plt.grid(\"off\")\n",
    "plt.show()\n",
    " \n",
    "sess.close()"
   ]
  },
  {
   "cell_type": "code",
   "execution_count": null,
   "metadata": {},
   "outputs": [],
   "source": []
  }
 ],
 "metadata": {
  "kernelspec": {
   "display_name": "Python 3",
   "language": "python",
   "name": "python3"
  },
  "language_info": {
   "codemirror_mode": {
    "name": "ipython",
    "version": 3
   },
   "file_extension": ".py",
   "mimetype": "text/x-python",
   "name": "python",
   "nbconvert_exporter": "python",
   "pygments_lexer": "ipython3",
   "version": "3.6.4"
  }
 },
 "nbformat": 4,
 "nbformat_minor": 2
}
